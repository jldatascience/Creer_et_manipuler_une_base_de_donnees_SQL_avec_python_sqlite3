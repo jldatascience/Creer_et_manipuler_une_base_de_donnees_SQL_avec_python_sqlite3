{
 "cells": [
  {
   "cell_type": "markdown",
   "metadata": {},
   "source": [
    "# Créer et manipuler une base de données SQL avec python sqlite3"
   ]
  },
  {
   "cell_type": "markdown",
   "metadata": {},
   "source": [
    "SQLite est une bibliothèque écrite en C . SQLite est parfait pour les petits projets. Sa particularité est d'être intégré directement à un programme et ne répond donc pas à la logique client-serveur. Il est le moteur de base de données le plus distribué au monde puiqu'il est intégré à de nombreux logiciels grand public comme FireFox, Skype, Adobe, etc. Le logiciel pèse moins de 300 ko et peut donc être intégré à des projets tournant sur de petites supports comme les smartphones. Souvent aucune installation n'est nécessaire pour l'utiliser."
   ]
  },
  {
   "cell_type": "code",
   "execution_count": 7,
   "metadata": {},
   "outputs": [],
   "source": [
    "# importer le module SQLite:\n",
    "\n",
    "import sqlite3"
   ]
  },
  {
   "cell_type": "markdown",
   "metadata": {},
   "source": [
    "# Créer une base de données avec SQLite"
   ]
  },
  {
   "cell_type": "code",
   "execution_count": 8,
   "metadata": {},
   "outputs": [],
   "source": [
    "# Créer une base de données avec SQLite\n",
    "# & Connexion à cette base de données\n",
    "\n",
    "conn = sqlite3.connect('ma_base.db')"
   ]
  },
  {
   "cell_type": "code",
   "execution_count": 9,
   "metadata": {},
   "outputs": [],
   "source": [
    "# Create a cursor object\n",
    "\n",
    "\"\"\" Avant de réaliser toutes actions sur cette base de données il sera nécessaire de créer un \"curseur\" grâce à la fonction cursor() \"\"\"\n",
    "\n",
    "cursor = conn.cursor()"
   ]
  },
  {
   "cell_type": "markdown",
   "metadata": {},
   "source": [
    "# Créer une table avec SQLite"
   ]
  },
  {
   "cell_type": "code",
   "execution_count": 10,
   "metadata": {},
   "outputs": [],
   "source": [
    "# Create a table\n",
    "\n",
    "\"\"\" Si la table existe déjà ca bug, pour éviter cela, on peut utiliser la requête \"if not exists\" \"\"\"\n",
    "\n",
    "cursor.execute(\"\"\"\n",
    "CREATE TABLE IF NOT EXISTS users(\n",
    "     id INTEGER PRIMARY KEY AUTOINCREMENT UNIQUE,\n",
    "     name TEXT,\n",
    "     age INTERGER\n",
    "     )\n",
    "\"\"\")\n",
    "\n",
    "\n",
    "\n",
    "# autre code possible pour créer une table, sans utiliser la requête \"if not exists\"\n",
    "\"\"\" \n",
    "\n",
    "cursor.execute('''\n",
    "    CREATE TABLE users (\n",
    "        id INTEGER PRIMARY KEY,\n",
    "        name TEXT,\n",
    "        age INTEGER\n",
    "     )\n",
    "''')\n",
    "\n",
    "\"\"\"\n",
    "\n",
    "\n",
    "# commit à effectuer après chaque modif dans la BDD, pour les enregistrer\n",
    "conn.commit()"
   ]
  },
  {
   "cell_type": "markdown",
   "metadata": {},
   "source": [
    "# Supprimer une table avec SQLite"
   ]
  },
  {
   "cell_type": "code",
   "execution_count": 11,
   "metadata": {},
   "outputs": [],
   "source": [
    "# supprimer une table\n",
    "\n",
    "cursor.execute(\"\"\"\n",
    "DROP TABLE users\n",
    "\"\"\")\n",
    "\n",
    "conn.commit()"
   ]
  },
  {
   "cell_type": "code",
   "execution_count": 12,
   "metadata": {},
   "outputs": [],
   "source": [
    "# on recréer la table juste supprimmée précédemment\n",
    "\n",
    "cursor.execute(\"\"\"\n",
    "CREATE TABLE IF NOT EXISTS users(\n",
    "     id INTEGER PRIMARY KEY AUTOINCREMENT UNIQUE,\n",
    "     name TEXT,\n",
    "     age INTERGER\n",
    ")\n",
    "\"\"\")\n",
    "\n",
    "conn.commit()"
   ]
  },
  {
   "cell_type": "markdown",
   "metadata": {},
   "source": [
    "# Insérer des données"
   ]
  },
  {
   "cell_type": "code",
   "execution_count": 16,
   "metadata": {},
   "outputs": [],
   "source": [
    "\n",
    "# 1ere technique pour insérer de nouvelles données dans une table\n",
    "\n",
    "cursor.execute(\"INSERT INTO users(name, age) VALUES('Robert', 18)\")\n",
    "\n",
    "\n",
    "\n",
    "# 2eme technique pour insérer de nouvelles données dans une table, en utilisant un dictionnaire 'data' par exemple\n",
    "\n",
    "\"\"\"\n",
    "\n",
    "data = {\"name\" : \"olivier\", \"age\" : 30}\n",
    "cursor.execute(\"INSERT INTO users(name, age) VALUES(:name, :age)\", data)\n",
    "\n",
    "\"\"\"\n",
    "\n",
    "\n",
    "\n",
    "# 3eme technique pour insérer de nouvelles données dans une table\n",
    "\n",
    "\"\"\" \n",
    "\n",
    "cursor.execute(\"INSERT INTO users(name, age) VALUES(?, ?)\", (\"olivier\", 30))\n",
    "\n",
    "\"\"\"\n",
    "\n",
    "\n",
    "\n",
    "# 4eme technique pour faire plusieurs insert en une seule fois avec la fonction executemany :\n",
    "\n",
    "\"\"\"\n",
    "\n",
    "users = []\n",
    "users.append((\"olivier\", 40))\n",
    "users.append((\"jean-louis\", 90))\n",
    "cursor.executemany(\"INSERT INTO users(name, age) VALUES(?, ?)\", users)\n",
    "\n",
    "\"\"\"\n",
    "\n",
    "\n",
    "\n",
    "\n",
    "# 5eme technique : autre méthode consiste à rentrer au préalable les valeurs dans une tuple, cela permet de compléter en même temps plusieurs lignes de la table :\n",
    "\n",
    "\"\"\"\n",
    "\n",
    "d =[(\"Simon\", 32),(\"Patrick\", 36)]\n",
    "\t\n",
    "for i in d:\n",
    "\tcursor.execute(\"INSERT INTO users(name, age) VALUES(?,?)\", i)\n",
    "\n",
    "\n",
    "\"\"\"\n",
    "\n",
    "\n",
    "\n",
    "# 6eme technique : Cela permet aussi d'automatiser les entrées dans la table :\n",
    "\n",
    "\"\"\"\n",
    "\n",
    "name = \"Sylvain\"\n",
    "age = 26\n",
    "\n",
    "d =[(name, age)]\n",
    "\t\n",
    "for i in d:\n",
    "\tcursor.execute(\"INSERT INTO users(name, age) VALUES(?,?)\", i)\n",
    "\n",
    "\n",
    "\"\"\"\n",
    "\n",
    "\n",
    "\n",
    "\n",
    "# 7eme technique pour insérer de nouvelles données dans une table\n",
    "\n",
    "\"\"\"\n",
    "cursor.execute(\"INSERT INTO users VALUES (\"pascal\", 30)\")\n",
    "cursor.execute(\"INSERT INTO users VALUES (\"daniel\", 32)\")\n",
    "\n",
    "\"\"\"\n",
    "\n",
    "\n",
    "conn.commit()"
   ]
  },
  {
   "cell_type": "code",
   "execution_count": 23,
   "metadata": {},
   "outputs": [],
   "source": [
    "# 8eme technique pour faire plusieurs insert en une seule fois avec la fonction executemany :\n",
    "\n",
    "users = []\n",
    "users.append((\"olivier\", 40))\n",
    "users.append((\"jean-louis\", 90))\n",
    "cursor.executemany(\"INSERT INTO users(name, age) VALUES(?, ?)\", users)\n",
    "\n",
    "conn.commit()"
   ]
  },
  {
   "cell_type": "markdown",
   "metadata": {},
   "source": [
    "# Extraire / Récupérer des données"
   ]
  },
  {
   "cell_type": "code",
   "execution_count": 24,
   "metadata": {},
   "outputs": [
    {
     "name": "stdout",
     "output_type": "stream",
     "text": [
      "('Robert', 18)\n"
     ]
    },
    {
     "data": {
      "text/plain": [
       "' Le résultat est un tuple '"
      ]
     },
     "execution_count": 24,
     "metadata": {},
     "output_type": "execute_result"
    }
   ],
   "source": [
    "\"\"\"\n",
    "cur.fetchone() renvoie seulement la première tuple.\n",
    "Utilisez le si vous ne voulez que la première tuple, ou plus généralement si vous vous attendez à ce que votre requête ne retourne qu’une seule tuple.\n",
    "\"\"\"\n",
    "\n",
    "\"\"\"\n",
    "On peut récupérer la première ligne correspondant à notre recherche à l'aide de la fonction fetchone\n",
    "\"\"\"\n",
    "\n",
    "cursor.execute(\"\"\"SELECT name, age FROM users\"\"\")\n",
    "row1 = cursor.fetchone()\n",
    "print(row1)\n",
    "\n",
    "\"\"\" Le résultat est un tuple \"\"\""
   ]
  },
  {
   "cell_type": "code",
   "execution_count": 25,
   "metadata": {},
   "outputs": [
    {
     "data": {
      "text/plain": [
       "[('Robert',), ('olivier',), ('jean-louis',)]"
      ]
     },
     "execution_count": 25,
     "metadata": {},
     "output_type": "execute_result"
    }
   ],
   "source": [
    "# Extraire seulement les données de la colonne name :\n",
    "\n",
    "cursor.execute(\"SELECT name FROM users\")\n",
    "rowname = cursor.fetchall()\n",
    "rowname"
   ]
  },
  {
   "cell_type": "code",
   "execution_count": 26,
   "metadata": {},
   "outputs": [
    {
     "data": {
      "text/plain": [
       "[('Robert', 18), ('olivier', 40), ('jean-louis', 90)]"
      ]
     },
     "execution_count": 26,
     "metadata": {},
     "output_type": "execute_result"
    }
   ],
   "source": [
    "# Extraire seulement les données des colonnes name et age :\n",
    "\n",
    "cursor.execute(\"SELECT name, age FROM users\")\n",
    "rowname = cursor.fetchall()\n",
    "rowname"
   ]
  },
  {
   "cell_type": "code",
   "execution_count": 27,
   "metadata": {},
   "outputs": [
    {
     "data": {
      "text/plain": [
       "(18,)"
      ]
     },
     "execution_count": 27,
     "metadata": {},
     "output_type": "execute_result"
    }
   ],
   "source": [
    "# Extraire l'age du user ayant comme name \"Robert\" :\n",
    "\n",
    "x = 'Robert'\n",
    "cursor.execute(\"SELECT age FROM users WHERE name = ?\",(x,))\n",
    "rowname = cursor.fetchone()\n",
    "rowname\n",
    "\n"
   ]
  },
  {
   "cell_type": "code",
   "execution_count": 30,
   "metadata": {},
   "outputs": [
    {
     "data": {
      "text/plain": [
       "[('Robert',)]"
      ]
     },
     "execution_count": 30,
     "metadata": {},
     "output_type": "execute_result"
    }
   ],
   "source": [
    "# Extraire tous les name dont l'age contient le nombre 18 :\n",
    "\n",
    "x = 18\n",
    "cursor.execute(\"SELECT name FROM users WHERE age LIKE ?\",(x,))\n",
    "rowname = cursor.fetchall()\n",
    "rowname"
   ]
  },
  {
   "cell_type": "code",
   "execution_count": 40,
   "metadata": {},
   "outputs": [
    {
     "data": {
      "text/plain": [
       "[(1, 'Robert', 18), (2, 'olivier', 40), (3, 'jean-louis', 90)]"
      ]
     },
     "execution_count": 40,
     "metadata": {},
     "output_type": "execute_result"
    }
   ],
   "source": [
    "# Pour récupérer plusieurs données de la même recherche en utilisant la fonction fetchall()\n",
    "\n",
    "\"\"\" cursor.fetchall() renvoie une liste de tuple contenant l’intégralité de ce que la requête a retourné \"\"\"\n",
    "\n",
    "\n",
    "# 1ere technique :\n",
    "\n",
    "cursor.execute(\"SELECT * FROM users\") \n",
    "rows = cursor.fetchall()\n",
    "rows"
   ]
  },
  {
   "cell_type": "code",
   "execution_count": 41,
   "metadata": {},
   "outputs": [
    {
     "name": "stdout",
     "output_type": "stream",
     "text": [
      "1 : Robert - 18\n",
      "2 : olivier - 40\n",
      "3 : jean-louis - 90\n"
     ]
    }
   ],
   "source": [
    "# 2eme technique :\n",
    "\n",
    "cursor.execute(\"SELECT id, name, age FROM users\")\n",
    "rows = cursor.fetchall()\n",
    "for row in rows:\n",
    "    print('{0} : {1} - {2}'.format(row[0], row[1], row[2]))"
   ]
  },
  {
   "cell_type": "code",
   "execution_count": 42,
   "metadata": {},
   "outputs": [
    {
     "name": "stdout",
     "output_type": "stream",
     "text": [
      "1 : Robert, 18\n",
      "2 : olivier, 40\n",
      "3 : jean-louis, 90\n"
     ]
    }
   ],
   "source": [
    "# L'objet curseur fonctionne comme un itérateur, invoquant la méthode fetchall() automatiquement :\n",
    "\n",
    "cursor.execute(\"SELECT id, name, age FROM users\")\n",
    "for row in cursor:\n",
    "    print('{0} : {1}, {2}'.format(row[0], row[1], row[2]))"
   ]
  },
  {
   "cell_type": "code",
   "execution_count": 50,
   "metadata": {},
   "outputs": [],
   "source": [
    "# Pour la recherche spécifique, on utilise la même logique vu précédemment :\n",
    "\n",
    "id = 2\n",
    "cursor.execute(\"SELECT id, name FROM users WHERE id=?\", (id,))\n",
    "response = cursor.fetchone()"
   ]
  },
  {
   "cell_type": "markdown",
   "metadata": {},
   "source": [
    "# Modifier des entrées"
   ]
  },
  {
   "cell_type": "code",
   "execution_count": 51,
   "metadata": {},
   "outputs": [
    {
     "data": {
      "text/plain": [
       "<sqlite3.Cursor at 0x1120279c0>"
      ]
     },
     "execution_count": 51,
     "metadata": {},
     "output_type": "execute_result"
    }
   ],
   "source": [
    "# Pour modifier des entrées\n",
    "\n",
    "cursor.execute(\"\"\"UPDATE users SET name = ? WHERE age = 30\"\"\", (\"lionel\",))"
   ]
  },
  {
   "cell_type": "code",
   "execution_count": 52,
   "metadata": {},
   "outputs": [
    {
     "data": {
      "text/plain": [
       "<sqlite3.Cursor at 0x1120279c0>"
      ]
     },
     "execution_count": 52,
     "metadata": {},
     "output_type": "execute_result"
    }
   ],
   "source": [
    "# Pour remplacer des données\n",
    "\n",
    "cursor.execute(\"UPDATE users SET name ='Patrick' WHERE name ='Robert'\")"
   ]
  },
  {
   "cell_type": "code",
   "execution_count": 53,
   "metadata": {},
   "outputs": [
    {
     "data": {
      "text/plain": [
       "<sqlite3.Cursor at 0x1120279c0>"
      ]
     },
     "execution_count": 53,
     "metadata": {},
     "output_type": "execute_result"
    }
   ],
   "source": [
    "# Pour supprimer des données:\n",
    "\n",
    "cursor.execute(\"DELETE FROM users WHERE name ='Patrick'\")"
   ]
  },
  {
   "cell_type": "code",
   "execution_count": 54,
   "metadata": {},
   "outputs": [],
   "source": [
    "# Ne pas oublier d'enregistrer les modifications\n",
    "\n",
    "conn.commit()"
   ]
  },
  {
   "cell_type": "markdown",
   "metadata": {},
   "source": [
    "# SQLite transactions : rollback"
   ]
  },
  {
   "cell_type": "code",
   "execution_count": 55,
   "metadata": {},
   "outputs": [],
   "source": [
    "# Pour revenir au dernier commit, on utilise la méthode rollback\n",
    "\n",
    "conn.rollback()"
   ]
  },
  {
   "cell_type": "markdown",
   "metadata": {},
   "source": [
    "# Faire une jointure entre 2 tables"
   ]
  },
  {
   "cell_type": "code",
   "execution_count": null,
   "metadata": {},
   "outputs": [],
   "source": [
    "\"\"\"\n",
    "\n",
    "SELECT * FROM table1, table2 WHERE table1.cola = table2.colb\n",
    "\n",
    "\"\"\""
   ]
  },
  {
   "cell_type": "markdown",
   "metadata": {},
   "source": [
    "# Ajouter une colonne à une table"
   ]
  },
  {
   "cell_type": "code",
   "execution_count": null,
   "metadata": {},
   "outputs": [],
   "source": [
    "\"\"\"\n",
    "\n",
    "ALTER TABLE NomTable ADD COLUMN NomNouvelleColonne ColonneType\n",
    "\n",
    "\"\"\""
   ]
  },
  {
   "cell_type": "markdown",
   "metadata": {},
   "source": [
    "# Obtenir des informations sur une table ou une base"
   ]
  },
  {
   "cell_type": "code",
   "execution_count": 70,
   "metadata": {},
   "outputs": [],
   "source": [
    "# Obtenir une liste des colonnes d'une table\n",
    "\n",
    "cursor.execute(\"SELECT * FROM users\")\n",
    "r = list(cursor.description) \n",
    "col = [i[0] for i in r]"
   ]
  },
  {
   "cell_type": "code",
   "execution_count": 59,
   "metadata": {},
   "outputs": [],
   "source": [
    "# Obtenir une liste des tables d'une base\n",
    "\n",
    "cursor.execute(\"SELECT name FROM sqlite_master WHERE type='table';\")\n",
    "cel = list(cursor)"
   ]
  },
  {
   "cell_type": "markdown",
   "metadata": {},
   "source": [
    "# Gestion des erreurs"
   ]
  },
  {
   "cell_type": "code",
   "execution_count": 60,
   "metadata": {},
   "outputs": [
    {
     "name": "stdout",
     "output_type": "stream",
     "text": [
      "Erreur la table existe déjà\n"
     ]
    }
   ],
   "source": [
    "# Il est recommandé de toujours encadrer les opérations sur des bases de données et d'anticiper des erreurs :\n",
    "\n",
    "import sqlite3\n",
    "\n",
    "try:\n",
    "    conn = sqlite3.connect('data/users.db')\n",
    "    cursor = conn.cursor()\n",
    "    cursor.execute(\"\"\"\n",
    "CREATE TABLE users(\n",
    "    id INTEGER PRIMARY KEY AUTOINCREMENT UNIQUE,\n",
    "    name TEXT,\n",
    "    age INTERGER\n",
    ")\n",
    "\"\"\")\n",
    "    conn.commit()\n",
    "except sqlite3.OperationalError:\n",
    "    print('Erreur la table existe déjà')\n",
    "except Exception as e:\n",
    "    print(\"Erreur\")\n",
    "    conn.rollback()\n",
    "    # raise e\n",
    "finally:\n",
    "    conn.close()"
   ]
  },
  {
   "cell_type": "code",
   "execution_count": 61,
   "metadata": {},
   "outputs": [
    {
     "data": {
      "text/plain": [
       "\"\\n\\nLes erreurs que l'on peut intercepter :\\n\\nError\\nDatabaseError\\nDataError\\nIntegrityError\\nInternalError\\nNotSupportedError\\nOperationalError\\nProgrammingError\\nInterfaceError\\nWarning\\n\\n\""
      ]
     },
     "execution_count": 61,
     "metadata": {},
     "output_type": "execute_result"
    }
   ],
   "source": [
    "\"\"\"\n",
    "\n",
    "Les erreurs que l'on peut intercepter :\n",
    "\n",
    "Error\n",
    "DatabaseError\n",
    "DataError\n",
    "IntegrityError\n",
    "InternalError\n",
    "NotSupportedError\n",
    "OperationalError\n",
    "ProgrammingError\n",
    "InterfaceError\n",
    "Warning\n",
    "\n",
    "\"\"\""
   ]
  },
  {
   "cell_type": "markdown",
   "metadata": {},
   "source": [
    "# Fermer la connexion vers la base base de données"
   ]
  },
  {
   "cell_type": "code",
   "execution_count": 63,
   "metadata": {},
   "outputs": [],
   "source": [
    "# Lorsque le travail est terminé, fermer la connexion vers la base base de données\n",
    "\n",
    "conn.close()"
   ]
  },
  {
   "cell_type": "markdown",
   "metadata": {},
   "source": [
    "# Si besoin de réaccéder à la BDD, s'y reconnecter"
   ]
  },
  {
   "cell_type": "code",
   "execution_count": 64,
   "metadata": {},
   "outputs": [],
   "source": [
    "\"\"\" si besoin de réaccéder à la BDD \"\"\"\n",
    "\n",
    "# Reconnexion à cette base de données & au cursor\n",
    "\n",
    "conn = sqlite3.connect('ma_base.db')\n",
    "\n",
    "cursor = conn.cursor()"
   ]
  },
  {
   "cell_type": "code",
   "execution_count": 67,
   "metadata": {},
   "outputs": [
    {
     "data": {
      "text/plain": [
       "[(2, 'olivier', 40), (3, 'jean-louis', 90)]"
      ]
     },
     "execution_count": 67,
     "metadata": {},
     "output_type": "execute_result"
    }
   ],
   "source": [
    "# requete SQL\n",
    "\n",
    "cursor.execute(\"SELECT * FROM users\")\n",
    "rowname = cursor.fetchall()\n",
    "rowname\n"
   ]
  },
  {
   "cell_type": "code",
   "execution_count": 71,
   "metadata": {},
   "outputs": [
    {
     "name": "stdout",
     "output_type": "stream",
     "text": [
      "(2, 'olivier', 40)\n",
      "(3, 'jean-louis', 90)\n"
     ]
    }
   ],
   "source": [
    "# autre technique pour récupérer et imprimer des données\n",
    "\n",
    "rows = cursor.fetchall()\n",
    "for row in rows:\n",
    "    print(row)"
   ]
  },
  {
   "cell_type": "code",
   "execution_count": 74,
   "metadata": {},
   "outputs": [],
   "source": [
    "# Fermer une base de données\n",
    "\n",
    "conn.close()"
   ]
  },
  {
   "cell_type": "markdown",
   "metadata": {},
   "source": [
    "# CONCLUSION"
   ]
  },
  {
   "cell_type": "markdown",
   "metadata": {},
   "source": [
    "Ce use case montre comment :\n",
    "\n",
    "1.\tcréer une base de données SQLite,\n",
    "2.\tinsérer des données,\n",
    "3.  supprimer des données,\n",
    "4.\teffectuer une requête et extraire des données.\n",
    "\n",
    "Le code utilise le module python sqlite3 pour se connecter à la base de données, exécuter des instructions SQL et gérer les transactions.\n"
   ]
  },
  {
   "cell_type": "markdown",
   "metadata": {},
   "source": [
    "SQLite est un moteur de base de données relationnelle léger, autonome et open source qui permet de stocker et d'extraire des données de manière simple et efficace. Il est souvent utilisé dans les appareils mobiles, les systèmes embarqués et les environnements en demande.\n",
    "\n",
    "SQLite ne nécessite pas de configuration ni de serveur dédié, ce qui en fait un choix populaire pour les applications qui n'ont pas besoin de fonctionnalités complexes de gestion de base de données. Il peut être intégré directement dans une application sans nécessiter l'installation d'un logiciel distinct.\n",
    "\n",
    "SQLite supporte le standard SQL, ce qui signifie que les développeurs peuvent utiliser des instructions SQL courantes pour interagir avec les données de la base de données. En outre, SQLite est conforme à la norme ACID (Atomicité, Consistance, Isolation, Durabilité), garantissant ainsi l'intégrité et la fiabilité des données."
   ]
  }
 ],
 "metadata": {
  "kernelspec": {
   "display_name": "Python 3",
   "language": "python",
   "name": "python3"
  },
  "language_info": {
   "codemirror_mode": {
    "name": "ipython",
    "version": 3
   },
   "file_extension": ".py",
   "mimetype": "text/x-python",
   "name": "python",
   "nbconvert_exporter": "python",
   "pygments_lexer": "ipython3",
   "version": "3.10.2"
  },
  "orig_nbformat": 4
 },
 "nbformat": 4,
 "nbformat_minor": 2
}
